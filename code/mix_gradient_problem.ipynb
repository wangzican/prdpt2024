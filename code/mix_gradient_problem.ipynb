{
 "cells": [
  {
   "cell_type": "code",
   "execution_count": 1,
   "metadata": {},
   "outputs": [],
   "source": [
    "%load_ext autoreload\n",
    "%autoreload 2"
   ]
  },
  {
   "cell_type": "code",
   "execution_count": 2,
   "metadata": {},
   "outputs": [
    {
     "name": "stdout",
     "output_type": "stream",
     "text": [
      "is available\n"
     ]
    }
   ],
   "source": [
    "import sys\n",
    "import os \n",
    "sys.path.append(os.path.abspath('../'))\n",
    "import torch\n",
    "from time import time\n",
    "from tqdm import tqdm\n",
    "import drjit as dr\n",
    "import mitsuba as mi\n",
    "import numpy as np\n",
    "import matplotlib.pyplot as plt \n",
    "from IPython.display import clear_output\n",
    "import torch.nn as nn\n",
    "import torch.nn.functional as F\n",
    "\n",
    "\n",
    "from convolutions import *\n",
    "from utils_fns import *\n",
    "from utils_general import update_sigma_linear, run_scheduler_step, plt_errors, show_with_error\n",
    "from optimizations import *\n",
    "from utils_optim import run_optimization, run_grad_optimization, run_cg_optimization, run_bfgs_optimization\n",
    "from utils_general import run_scheduler_step\n",
    "from utils_mitsuba import get_mts_rendering, render_smooth\n",
    "from read_scenes import create_scene_from_xml\n",
    "\n",
    "if torch.cuda.is_available():\n",
    "    device = 'cuda'\n",
    "    print(\"is available\")\n",
    "    mi.set_variant('cuda_ad_rgb')"
   ]
  },
  {
   "cell_type": "markdown",
   "metadata": {},
   "source": [
    "# Setup f(x), g(x)"
   ]
  },
  {
   "cell_type": "code",
   "execution_count": 3,
   "metadata": {},
   "outputs": [],
   "source": [
    "def layer_f(weights, x):\n",
    "    '''\n",
    "    Analytic, for linear 3d x -> 4d output\n",
    "    weight matrix with shape (4,3)\n",
    "    '''\n",
    "    return weights @ x\n",
    "    \n",
    "def loss_f(input):\n",
    "    '''\n",
    "    Loss function, s.t. second derivative is non-zero\n",
    "    '''\n",
    "    return torch.sum(input**4)\n",
    "    \n",
    "def f(weights, x):\n",
    "    return loss_f(layer_f(weights, x))\n",
    "\n",
    "def ddloss_f(input):\n",
    "    '''\n",
    "    Second derivative of loss function wrt input\n",
    "    '''\n",
    "    input = input.flatten()\n",
    "    return torch.diag(12*input**2)\n",
    "\n",
    "def dlayer_f(weights, x):\n",
    "    '''\n",
    "    Jacobian of layer_f wrt weights\n",
    "    each column would be x with shape (4,3)\n",
    "    '''\n",
    "    return torch.func.jacrev(layer_f, argnums=0)(weights, x)\n",
    "# def analytical_dfdx(x):\n",
    "    \n"
   ]
  },
  {
   "cell_type": "code",
   "execution_count": 4,
   "metadata": {},
   "outputs": [
    {
     "name": "stdout",
     "output_type": "stream",
     "text": [
      "analytical second order derivatives for weights: \n",
      "[[ 20.68  41.36  62.04   0.     0.     0.     0.     0.     0.     0.     0.     0.  ]\n",
      " [ 41.36  82.72 124.08   0.     0.     0.     0.     0.     0.     0.     0.     0.  ]\n",
      " [ 62.04 124.08 186.12   0.     0.     0.     0.     0.     0.     0.     0.     0.  ]\n",
      " [  0.     0.     0.    74.32 148.64 222.95   0.     0.     0.     0.     0.     0.  ]\n",
      " [  0.     0.     0.   148.64 297.27 445.91   0.     0.     0.     0.     0.     0.  ]\n",
      " [  0.     0.     0.   222.95 445.91 668.86   0.     0.     0.     0.     0.     0.  ]\n",
      " [  0.     0.     0.     0.     0.     0.    57.69 115.38 173.07   0.     0.     0.  ]\n",
      " [  0.     0.     0.     0.     0.     0.   115.38 230.76 346.15   0.     0.     0.  ]\n",
      " [  0.     0.     0.     0.     0.     0.   173.07 346.15 519.22   0.     0.     0.  ]\n",
      " [  0.     0.     0.     0.     0.     0.     0.     0.     0.    35.39  70.78 106.17]\n",
      " [  0.     0.     0.     0.     0.     0.     0.     0.     0.    70.78 141.56 212.34]\n",
      " [  0.     0.     0.     0.     0.     0.     0.     0.     0.   106.17 212.34 318.51]]\n",
      "Computed from pytorch: \n",
      "[[ 20.68  41.36  62.04   0.     0.     0.     0.     0.     0.     0.     0.     0.  ]\n",
      " [ 41.36  82.72 124.08   0.     0.     0.     0.     0.     0.     0.     0.     0.  ]\n",
      " [ 62.04 124.08 186.12   0.     0.     0.     0.     0.     0.     0.     0.     0.  ]\n",
      " [  0.     0.     0.    74.32 148.64 222.95   0.     0.     0.     0.     0.     0.  ]\n",
      " [  0.     0.     0.   148.64 297.27 445.91   0.     0.     0.     0.     0.     0.  ]\n",
      " [  0.     0.     0.   222.95 445.91 668.86   0.     0.     0.     0.     0.     0.  ]\n",
      " [  0.     0.     0.     0.     0.     0.    57.69 115.38 173.07   0.     0.     0.  ]\n",
      " [  0.     0.     0.     0.     0.     0.   115.38 230.76 346.15   0.     0.     0.  ]\n",
      " [  0.     0.     0.     0.     0.     0.   173.07 346.15 519.22   0.     0.     0.  ]\n",
      " [  0.     0.     0.     0.     0.     0.     0.     0.     0.    35.39  70.78 106.17]\n",
      " [  0.     0.     0.     0.     0.     0.     0.     0.     0.    70.78 141.56 212.34]\n",
      " [  0.     0.     0.     0.     0.     0.     0.     0.     0.   106.17 212.34 318.51]]\n"
     ]
    }
   ],
   "source": [
    "x = torch.tensor([1.0, 2.0, 3.0], device=device, requires_grad=True)\n",
    "x = x.reshape(3,1)\n",
    "weights = torch.rand((4,3), device=device, requires_grad=True)\n",
    "# weights = torch.tensor([[1.0, 2.0, 3.0], [4.0, 5.0, 6.0], [7.0, 8.0, 9.0], [10.0, 11.0, 12.0]], device=device, requires_grad=True)\n",
    "# weights = torch.tensor([[1.0, 2.0, 3.0], [1.0, 2.0, 3.0], [1.0, 2.0, 3.0], [1.0, 2.0, 3.0]], device=device, requires_grad=True)\n",
    "# weights = torch.tensor([[1.0, 1.0, 1.0], [1.0, 1.0, 1.0], [1.0, 1.0, 1.0], [1.0, 1.0, 1.0]], device=device, requires_grad=True)\n",
    "y = layer_f(weights, x)\n",
    "loss = loss_f(y)\n",
    "# print(f'y: {y}')    \n",
    "# print(f'loss: {loss}')\n",
    "\n",
    "ddloss = ddloss_f(y)\n",
    "dlayer = dlayer_f(weights, x).reshape(4,12)\n",
    "# print(f'd2loss/dy2: \\n{ddloss.cpu().detach().numpy()}')\n",
    "# print(f'dy/dx: \\n{dlayer.cpu().detach().numpy()}')\n",
    "\n",
    "with np.printoptions(linewidth=np.inf, precision=2):\n",
    "    weights_sod =  dlayer.T @ ddloss @ dlayer\n",
    "    print(f'analytical second order derivatives for weights: \\n{weights_sod.cpu().detach().numpy()}')\n",
    "    hess_f = torch.func.hessian(f, argnums=0)\n",
    "    weights_sod_torch = hess_f(weights, x).reshape(12,12)\n",
    "    print(f'Computed from pytorch: \\n{weights_sod_torch.cpu().detach().numpy()}')"
   ]
  },
  {
   "cell_type": "code",
   "execution_count": null,
   "metadata": {},
   "outputs": [],
   "source": []
  },
  {
   "cell_type": "code",
   "execution_count": null,
   "metadata": {},
   "outputs": [],
   "source": []
  }
 ],
 "metadata": {
  "kernelspec": {
   "display_name": "base",
   "language": "python",
   "name": "python3"
  },
  "language_info": {
   "codemirror_mode": {
    "name": "ipython",
    "version": 3
   },
   "file_extension": ".py",
   "mimetype": "text/x-python",
   "name": "python",
   "nbconvert_exporter": "python",
   "pygments_lexer": "ipython3",
   "version": "3.10.8"
  }
 },
 "nbformat": 4,
 "nbformat_minor": 2
}
