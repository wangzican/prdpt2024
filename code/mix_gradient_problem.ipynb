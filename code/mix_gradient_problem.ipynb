{
 "cells": [
  {
   "cell_type": "code",
   "execution_count": 3,
   "metadata": {},
   "outputs": [],
   "source": [
    "%load_ext autoreload\n",
    "%autoreload 2"
   ]
  },
  {
   "cell_type": "code",
   "execution_count": 4,
   "metadata": {},
   "outputs": [
    {
     "name": "stdout",
     "output_type": "stream",
     "text": [
      "is available\n"
     ]
    }
   ],
   "source": [
    "import sys\n",
    "import os \n",
    "sys.path.append(os.path.abspath('../'))\n",
    "import torch\n",
    "from time import time\n",
    "from tqdm import tqdm\n",
    "import drjit as dr\n",
    "import mitsuba as mi\n",
    "import numpy as np\n",
    "import matplotlib.pyplot as plt \n",
    "from IPython.display import clear_output\n",
    "import torch.nn as nn\n",
    "import torch.nn.functional as F\n",
    "\n",
    "\n",
    "from convolutions import *\n",
    "from utils_fns import *\n",
    "from utils_general import update_sigma_linear, run_scheduler_step, plt_errors, show_with_error\n",
    "from optimizations import *\n",
    "from utils_optim import run_optimization, run_grad_optimization, run_cg_optimization, run_bfgs_optimization\n",
    "from utils_general import run_scheduler_step\n",
    "from utils_mitsuba import get_mts_rendering, render_smooth\n",
    "from read_scenes import create_scene_from_xml\n",
    "\n",
    "if torch.cuda.is_available():\n",
    "    device = 'cuda'\n",
    "    print(\"is available\")\n",
    "    mi.set_variant('cuda_ad_rgb')"
   ]
  },
  {
   "cell_type": "markdown",
   "metadata": {},
   "source": [
    "# Setup f(x), g(x)"
   ]
  },
  {
   "cell_type": "code",
   "execution_count": 14,
   "metadata": {},
   "outputs": [],
   "source": [
    "def layer_f(weights, x):\n",
    "    '''\n",
    "    Analytic, for linear 3d x -> 4d output\n",
    "    weight matrix with shape (4,3)\n",
    "    '''\n",
    "    return weights @ x\n",
    "    \n",
    "def loss_f(input):\n",
    "    '''\n",
    "    Loss function, s.t. second derivative is non-zero\n",
    "    '''\n",
    "    return torch.sum(input**4)\n",
    "    \n",
    "def f(weights, x):\n",
    "    return loss_f(layer_f(weights, x))\n",
    "\n",
    "def ddloss_f(input):\n",
    "    '''\n",
    "    Second derivative of loss function wrt input\n",
    "    '''\n",
    "    return 12*input**2\n",
    "\n",
    "def dlayer_f(weights, x):\n",
    "    '''\n",
    "    Derivative of layer_f wrt weights\n",
    "    each column would be x with shape (4,3)\n",
    "    '''\n",
    "    return torch.stack([x for i in range(4)])\n",
    "# def analytical_dfdx(x):\n",
    "    "
   ]
  },
  {
   "cell_type": "code",
   "execution_count": 13,
   "metadata": {},
   "outputs": [
    {
     "name": "stdout",
     "output_type": "stream",
     "text": [
      "tensor([[0.7658, 0.8513, 0.7657],\n",
      "        [0.5590, 0.0492, 0.4930],\n",
      "        [0.4588, 0.3949, 0.4158],\n",
      "        [0.7591, 0.7903, 0.4464]], device='cuda:0', requires_grad=True)\n",
      "tensor([[[[4.2579, 4.2579, 4.2579],\n",
      "          [0.0000, 0.0000, 0.0000],\n",
      "          [0.0000, 0.0000, 0.0000],\n",
      "          [0.0000, 0.0000, 0.0000]],\n",
      "\n",
      "         [[4.2579, 4.2579, 4.2579],\n",
      "          [0.0000, 0.0000, 0.0000],\n",
      "          [0.0000, 0.0000, 0.0000],\n",
      "          [0.0000, 0.0000, 0.0000]],\n",
      "\n",
      "         [[4.2579, 4.2579, 4.2579],\n",
      "          [0.0000, 0.0000, 0.0000],\n",
      "          [0.0000, 0.0000, 0.0000],\n",
      "          [0.0000, 0.0000, 0.0000]]],\n",
      "\n",
      "\n",
      "        [[[0.0000, 0.0000, 0.0000],\n",
      "          [0.9094, 0.9094, 0.9094],\n",
      "          [0.0000, 0.0000, 0.0000],\n",
      "          [0.0000, 0.0000, 0.0000]],\n",
      "\n",
      "         [[0.0000, 0.0000, 0.0000],\n",
      "          [0.9094, 0.9094, 0.9094],\n",
      "          [0.0000, 0.0000, 0.0000],\n",
      "          [0.0000, 0.0000, 0.0000]],\n",
      "\n",
      "         [[0.0000, 0.0000, 0.0000],\n",
      "          [0.9094, 0.9094, 0.9094],\n",
      "          [0.0000, 0.0000, 0.0000],\n",
      "          [0.0000, 0.0000, 0.0000]]],\n",
      "\n",
      "\n",
      "        [[[0.0000, 0.0000, 0.0000],\n",
      "          [0.0000, 0.0000, 0.0000],\n",
      "          [1.2086, 1.2086, 1.2086],\n",
      "          [0.0000, 0.0000, 0.0000]],\n",
      "\n",
      "         [[0.0000, 0.0000, 0.0000],\n",
      "          [0.0000, 0.0000, 0.0000],\n",
      "          [1.2086, 1.2086, 1.2086],\n",
      "          [0.0000, 0.0000, 0.0000]],\n",
      "\n",
      "         [[0.0000, 0.0000, 0.0000],\n",
      "          [0.0000, 0.0000, 0.0000],\n",
      "          [1.2086, 1.2086, 1.2086],\n",
      "          [0.0000, 0.0000, 0.0000]]],\n",
      "\n",
      "\n",
      "        [[[0.0000, 0.0000, 0.0000],\n",
      "          [0.0000, 0.0000, 0.0000],\n",
      "          [0.0000, 0.0000, 0.0000],\n",
      "          [2.9877, 2.9877, 2.9877]],\n",
      "\n",
      "         [[0.0000, 0.0000, 0.0000],\n",
      "          [0.0000, 0.0000, 0.0000],\n",
      "          [0.0000, 0.0000, 0.0000],\n",
      "          [2.9877, 2.9877, 2.9877]],\n",
      "\n",
      "         [[0.0000, 0.0000, 0.0000],\n",
      "          [0.0000, 0.0000, 0.0000],\n",
      "          [0.0000, 0.0000, 0.0000],\n",
      "          [2.9877, 2.9877, 2.9877]]]], device='cuda:0',\n",
      "       grad_fn=<ViewBackward0>)\n"
     ]
    }
   ],
   "source": [
    "x = torch.tensor([0.5, 0.5, 0.5], device=device, requires_grad=True)\n",
    "weights = torch.rand((4,3), device=device, requires_grad=True)\n",
    "\n",
    "print(ddloss_f(layer_f(weights, x))*dlayer_f(weights, x))\n",
    "hess_f = torch.func.hessian(f)\n",
    "print(weights)\n",
    "print(hess_f(weights, x))"
   ]
  },
  {
   "cell_type": "code",
   "execution_count": null,
   "metadata": {},
   "outputs": [],
   "source": []
  },
  {
   "cell_type": "code",
   "execution_count": null,
   "metadata": {},
   "outputs": [],
   "source": []
  }
 ],
 "metadata": {
  "kernelspec": {
   "display_name": "base",
   "language": "python",
   "name": "python3"
  },
  "language_info": {
   "codemirror_mode": {
    "name": "ipython",
    "version": 3
   },
   "file_extension": ".py",
   "mimetype": "text/x-python",
   "name": "python",
   "nbconvert_exporter": "python",
   "pygments_lexer": "ipython3",
   "version": "3.10.8"
  }
 },
 "nbformat": 4,
 "nbformat_minor": 2
}
