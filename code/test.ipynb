{
 "cells": [
  {
   "cell_type": "code",
   "execution_count": 1,
   "metadata": {},
   "outputs": [
    {
     "name": "stdout",
     "output_type": "stream",
     "text": [
      "Fri May 24 16:50:14 2024       \n",
      "+---------------------------------------------------------------------------------------+\n",
      "| NVIDIA-SMI 535.54.02              Driver Version: 536.19       CUDA Version: 12.2     |\n",
      "|-----------------------------------------+----------------------+----------------------+\n",
      "| GPU  Name                 Persistence-M | Bus-Id        Disp.A | Volatile Uncorr. ECC |\n",
      "| Fan  Temp   Perf          Pwr:Usage/Cap |         Memory-Usage | GPU-Util  Compute M. |\n",
      "|                                         |                      |               MIG M. |\n",
      "|=========================================+======================+======================|\n",
      "|   0  NVIDIA GeForce RTX 3070        On  | 00000000:02:00.0 Off |                  N/A |\n",
      "|  0%   43C    P8               9W / 220W |      0MiB /  8192MiB |      0%      Default |\n",
      "|                                         |                      |                  N/A |\n",
      "+-----------------------------------------+----------------------+----------------------+\n",
      "                                                                                         \n",
      "+---------------------------------------------------------------------------------------+\n",
      "| Processes:                                                                            |\n",
      "|  GPU   GI   CI        PID   Type   Process name                            GPU Memory |\n",
      "|        ID   ID                                                             Usage      |\n",
      "|=======================================================================================|\n",
      "|  No running processes found                                                           |\n",
      "+---------------------------------------------------------------------------------------+\n",
      "nvcc: NVIDIA (R) Cuda compiler driver\n",
      "Copyright (c) 2005-2024 NVIDIA Corporation\n",
      "Built on Wed_Apr_17_19:19:55_PDT_2024\n",
      "Cuda compilation tools, release 12.5, V12.5.40\n",
      "Build cuda_12.5.r12.5/compiler.34177558_0\n"
     ]
    }
   ],
   "source": [
    "%load_ext autoreload\n",
    "%autoreload 2\n",
    "!nvidia-smi\n",
    "!nvcc --version"
   ]
  },
  {
   "cell_type": "code",
   "execution_count": 9,
   "metadata": {},
   "outputs": [
    {
     "name": "stdout",
     "output_type": "stream",
     "text": [
      "using cuda\n"
     ]
    },
    {
     "data": {
      "text/plain": [
       "['scalar_rgb', 'scalar_spectral', 'cuda_ad_rgb', 'llvm_ad_rgb']"
      ]
     },
     "execution_count": 9,
     "metadata": {},
     "output_type": "execute_result"
    }
   ],
   "source": [
    "import sys\n",
    "import os\n",
    "from pathlib import Path\n",
    "sys.path.append(os.path.abspath('../'))\n",
    "import mitsuba as mi\n",
    "import torch\n",
    "from matplotlib import pyplot as plt\n",
    "import drjit as dr\n",
    "from utils_mitsuba import setup_shadowscene\n",
    "device = 'cpu'\n",
    "if torch.cuda.is_available():\n",
    "    print(\"using cuda\")\n",
    "    device = 'cuda'\n",
    "    mi.set_variant('cuda_ad_rgb')\n",
    "# device = 'cpu'\n",
    "# mi.set_variant('scalar_rgb')\n",
    "mi.variants()"
   ]
  },
  {
   "cell_type": "code",
   "execution_count": 8,
   "metadata": {},
   "outputs": [
    {
     "ename": "RuntimeError",
     "evalue": "jit_init_thread_state(): the CUDA backend hasn't been initialized. Make sure to call jit_init(JitBackend::CUDA) to properly initialize this backend.",
     "output_type": "error",
     "traceback": [
      "\u001b[0;31m---------------------------------------------------------------------------\u001b[0m",
      "\u001b[0;31mRuntimeError\u001b[0m                              Traceback (most recent call last)",
      "Cell \u001b[0;32mIn[8], line 1\u001b[0m\n\u001b[0;32m----> 1\u001b[0m img\u001b[38;5;241m=\u001b[39mmi\u001b[38;5;241m.\u001b[39mrender(\u001b[43mmi\u001b[49m\u001b[38;5;241;43m.\u001b[39;49m\u001b[43mload_dict\u001b[49m\u001b[43m(\u001b[49m\u001b[43mmi\u001b[49m\u001b[38;5;241;43m.\u001b[39;49m\u001b[43mcornell_box\u001b[49m\u001b[43m(\u001b[49m\u001b[43m)\u001b[49m\u001b[43m)\u001b[49m)\n\u001b[1;32m      2\u001b[0m plt\u001b[38;5;241m.\u001b[39maxis(\u001b[38;5;124m\"\u001b[39m\u001b[38;5;124moff\u001b[39m\u001b[38;5;124m\"\u001b[39m)\n\u001b[1;32m      3\u001b[0m plt\u001b[38;5;241m.\u001b[39mimshow(img \u001b[38;5;241m*\u001b[39m\u001b[38;5;241m*\u001b[39m (\u001b[38;5;241m1.0\u001b[39m \u001b[38;5;241m/\u001b[39m \u001b[38;5;241m2.2\u001b[39m)); \u001b[38;5;66;03m# approximate sRGB tonemapping\u001b[39;00m\n",
      "\u001b[0;31mRuntimeError\u001b[0m: jit_init_thread_state(): the CUDA backend hasn't been initialized. Make sure to call jit_init(JitBackend::CUDA) to properly initialize this backend."
     ]
    }
   ],
   "source": [
    "img=mi.render(mi.load_dict(mi.cornell_box()))\n",
    "plt.axis(\"off\")\n",
    "plt.imshow(img ** (1.0 / 2.2)); # approximate sRGB tonemapping\n",
    "mi.util.write_bitmap(\"cbox_test.png\", img)"
   ]
  },
  {
   "cell_type": "code",
   "execution_count": 16,
   "metadata": {},
   "outputs": [
    {
     "name": "stdout",
     "output_type": "stream",
     "text": [
      "/mnt/d/ucl cs/MSc/prdpt2024\n"
     ]
    },
    {
     "ename": "Exception",
     "evalue": "unravel(): expected a nested array as target type!",
     "output_type": "error",
     "traceback": [
      "\u001b[0;31m---------------------------------------------------------------------------\u001b[0m",
      "\u001b[0;31mException\u001b[0m                                 Traceback (most recent call last)",
      "Cell \u001b[0;32mIn[16], line 17\u001b[0m\n\u001b[1;32m      1\u001b[0m hparams \u001b[38;5;241m=\u001b[39m {\u001b[38;5;124m'\u001b[39m\u001b[38;5;124mresx\u001b[39m\u001b[38;5;124m'\u001b[39m: \u001b[38;5;241m256\u001b[39m,\n\u001b[1;32m      2\u001b[0m             \u001b[38;5;124m'\u001b[39m\u001b[38;5;124mresy\u001b[39m\u001b[38;5;124m'\u001b[39m: \u001b[38;5;241m192\u001b[39m,\n\u001b[1;32m      3\u001b[0m             \u001b[38;5;124m'\u001b[39m\u001b[38;5;124mnsamples\u001b[39m\u001b[38;5;124m'\u001b[39m: \u001b[38;5;241m1\u001b[39m,\n\u001b[0;32m   (...)\u001b[0m\n\u001b[1;32m     15\u001b[0m             \u001b[38;5;124m'\u001b[39m\u001b[38;5;124mmax_depth\u001b[39m\u001b[38;5;124m'\u001b[39m: \u001b[38;5;241m6\u001b[39m,\n\u001b[1;32m     16\u001b[0m             \u001b[38;5;124m'\u001b[39m\u001b[38;5;124mreparam_max_depth\u001b[39m\u001b[38;5;124m'\u001b[39m: \u001b[38;5;241m2\u001b[39m}\n\u001b[0;32m---> 17\u001b[0m scene, params, mat_id, initial_vertex_positions \u001b[38;5;241m=\u001b[39m \u001b[43msetup_shadowscene\u001b[49m\u001b[43m(\u001b[49m\u001b[43mhparams\u001b[49m\u001b[43m)\u001b[49m\n",
      "File \u001b[0;32m/mnt/d/ucl cs/MSc/prdpt2024/utils_mitsuba.py:68\u001b[0m, in \u001b[0;36msetup_shadowscene\u001b[0;34m(hparams)\u001b[0m\n\u001b[1;32m     66\u001b[0m params \u001b[38;5;241m=\u001b[39m mi\u001b[38;5;241m.\u001b[39mtraverse(scene)\n\u001b[1;32m     67\u001b[0m mat_id \u001b[38;5;241m=\u001b[39m \u001b[38;5;124m'\u001b[39m\u001b[38;5;124mPLYMesh_1.vertex_positions\u001b[39m\u001b[38;5;124m'\u001b[39m       \u001b[38;5;66;03m# this changes per scene, adapt accordingly\u001b[39;00m\n\u001b[0;32m---> 68\u001b[0m initial_vertex_positions \u001b[38;5;241m=\u001b[39m \u001b[43mdr\u001b[49m\u001b[38;5;241;43m.\u001b[39;49m\u001b[43munravel\u001b[49m\u001b[43m(\u001b[49m\u001b[43mmi\u001b[49m\u001b[38;5;241;43m.\u001b[39;49m\u001b[43mPoint3f\u001b[49m\u001b[43m,\u001b[49m\u001b[43m \u001b[49m\u001b[43mparams\u001b[49m\u001b[43m[\u001b[49m\u001b[43mmat_id\u001b[49m\u001b[43m]\u001b[49m\u001b[43m)\u001b[49m\n\u001b[1;32m     69\u001b[0m \u001b[38;5;28;01mreturn\u001b[39;00m scene, params, mat_id, initial_vertex_positions\n",
      "File \u001b[0;32m~/miniconda3/envs/prdpt/lib/python3.9/site-packages/drjit/router.py:1217\u001b[0m, in \u001b[0;36munravel\u001b[0;34m(dtype, array, order)\u001b[0m\n\u001b[1;32m   1215\u001b[0m     \u001b[38;5;28;01mraise\u001b[39;00m \u001b[38;5;167;01mException\u001b[39;00m(\u001b[38;5;124m'\u001b[39m\u001b[38;5;124munravel(): array input must be a flat array!\u001b[39m\u001b[38;5;124m'\u001b[39m)\n\u001b[1;32m   1216\u001b[0m \u001b[38;5;28;01melif\u001b[39;00m \u001b[38;5;129;01mnot\u001b[39;00m \u001b[38;5;28missubclass\u001b[39m(dtype, ArrayBase) \u001b[38;5;129;01mor\u001b[39;00m dtype\u001b[38;5;241m.\u001b[39mDepth \u001b[38;5;241m==\u001b[39m \u001b[38;5;241m1\u001b[39m:\n\u001b[0;32m-> 1217\u001b[0m     \u001b[38;5;28;01mraise\u001b[39;00m \u001b[38;5;167;01mException\u001b[39;00m(\u001b[38;5;124m\"\u001b[39m\u001b[38;5;124munravel(): expected a nested array as target type!\u001b[39m\u001b[38;5;124m\"\u001b[39m)\n\u001b[1;32m   1219\u001b[0m size \u001b[38;5;241m=\u001b[39m \u001b[38;5;241m1\u001b[39m\n\u001b[1;32m   1220\u001b[0m t \u001b[38;5;241m=\u001b[39m dtype\n",
      "\u001b[0;31mException\u001b[0m: unravel(): expected a nested array as target type!"
     ]
    }
   ],
   "source": [
    "hparams = {'resx': 256,\n",
    "            'resy': 192,\n",
    "            'nsamples': 1,\n",
    "            'sigma': 0.5,\n",
    "            'render_spp': 32,\n",
    "            'initial_translation': [-0.5, 2.5],\n",
    "            'gt_translation': [-1.5, 1.0],\n",
    "            'learning_rate': 2e-2,\n",
    "            'epochs': 400,\n",
    "            'sigma_annealing': True,\n",
    "            'anneal_const_first': 200,\n",
    "            'anneal_const_last': 0,\n",
    "            'anneal_sigma_min': 0.01,\n",
    "            'integrator': 'path',\n",
    "            'max_depth': 6,\n",
    "            'reparam_max_depth': 2}\n",
    "scene, params, mat_id, initial_vertex_positions = setup_shadowscene(hparams)"
   ]
  },
  {
   "cell_type": "code",
   "execution_count": 7,
   "metadata": {},
   "outputs": [
    {
     "ename": "RuntimeError",
     "evalue": "​[xml.cpp:179] Error while loading \"./scenes/shadows/shadows.xml\" (at line 12, col 4): could not parse integer value \"depth_value\".",
     "output_type": "error",
     "traceback": [
      "\u001b[0;31m---------------------------------------------------------------------------\u001b[0m",
      "\u001b[0;31mRuntimeError\u001b[0m                              Traceback (most recent call last)",
      "Cell \u001b[0;32mIn[7], line 1\u001b[0m\n\u001b[0;32m----> 1\u001b[0m scene \u001b[38;5;241m=\u001b[39m \u001b[43mmi\u001b[49m\u001b[38;5;241;43m.\u001b[39;49m\u001b[43mload_file\u001b[49m\u001b[43m(\u001b[49m\u001b[38;5;124;43m'\u001b[39;49m\u001b[38;5;124;43m./scenes/shadows/shadows.xml\u001b[39;49m\u001b[38;5;124;43m'\u001b[39;49m\u001b[43m)\u001b[49m\n\u001b[1;32m      2\u001b[0m img\u001b[38;5;241m=\u001b[39mmi\u001b[38;5;241m.\u001b[39mrender(scene)\n\u001b[1;32m      3\u001b[0m plt\u001b[38;5;241m.\u001b[39maxis(\u001b[38;5;124m\"\u001b[39m\u001b[38;5;124moff\u001b[39m\u001b[38;5;124m\"\u001b[39m)\n",
      "\u001b[0;31mRuntimeError\u001b[0m: ​[xml.cpp:179] Error while loading \"./scenes/shadows/shadows.xml\" (at line 12, col 4): could not parse integer value \"depth_value\"."
     ]
    }
   ],
   "source": [
    "# scene = mi.load_file('./scenes/shadows/shadows.xml')\n",
    "img=mi.render(scene)\n",
    "plt.axis(\"off\")\n",
    "plt.imshow(img ** (1.0 / 2.2)); # approximate sRGB tonemapping\n",
    "mi.util.write_bitmap(\"shadows.png\", img)"
   ]
  }
 ],
 "metadata": {
  "kernelspec": {
   "display_name": "prdpt",
   "language": "python",
   "name": "python3"
  },
  "language_info": {
   "codemirror_mode": {
    "name": "ipython",
    "version": 3
   },
   "file_extension": ".py",
   "mimetype": "text/x-python",
   "name": "python",
   "nbconvert_exporter": "python",
   "pygments_lexer": "ipython3",
   "version": "3.9.19"
  }
 },
 "nbformat": 4,
 "nbformat_minor": 2
}
